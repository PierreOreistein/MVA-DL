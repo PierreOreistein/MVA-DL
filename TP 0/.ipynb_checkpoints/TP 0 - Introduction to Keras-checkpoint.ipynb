{
 "cells": [
  {
   "cell_type": "markdown",
   "metadata": {},
   "source": [
    "# TP 0 - Introduction to Keras"
   ]
  },
  {
   "cell_type": "markdown",
   "metadata": {},
   "source": [
    "# 0 - Information"
   ]
  },
  {
   "cell_type": "code",
   "execution_count": null,
   "metadata": {},
   "outputs": [],
   "source": []
  },
  {
   "cell_type": "markdown",
   "metadata": {},
   "source": [
    "# 1 - Packages"
   ]
  },
  {
   "cell_type": "code",
   "execution_count": 120,
   "metadata": {
    "ExecuteTime": {
     "end_time": "2018-12-05T19:49:53.214411Z",
     "start_time": "2018-12-05T19:49:53.204758Z"
    }
   },
   "outputs": [],
   "source": [
    "# Math packages\n",
    "import numpy as np\n",
    "\n",
    "# Matplotlib\n",
    "%matplotlib inline\n",
    "import matplotlib.pyplot as plt\n",
    "import matplotlib.cm as cm\n",
    "\n",
    "# Keras\n",
    "from keras.models import Sequential\n",
    "from keras.layers import Dense, Activation, Conv2D, MaxPooling2D, Dropout, Flatten\n",
    "from keras.optimizers import SGD\n",
    "from keras.utils import np_utils\n",
    "\n",
    "# Keras Images\n",
    "from keras.preprocessing.image import load_img\n",
    "from keras.preprocessing.image import img_to_array"
   ]
  },
  {
   "cell_type": "markdown",
   "metadata": {},
   "source": [
    "# 2 - First Example: A two layers network"
   ]
  },
  {
   "cell_type": "markdown",
   "metadata": {},
   "source": [
    "## 2.1 - Definition of the function"
   ]
  },
  {
   "cell_type": "code",
   "execution_count": 2,
   "metadata": {
    "ExecuteTime": {
     "end_time": "2018-12-05T18:40:12.432014Z",
     "start_time": "2018-12-05T18:40:12.428704Z"
    }
   },
   "outputs": [],
   "source": [
    "def F(x1, x2):\n",
    "    \"\"\"Definition of the fonction F.\"\"\"\n",
    "    \n",
    "    return np.sin(np.pi * x1 / 2.0) * np.cos(np.pi * x2 / 4.0)"
   ]
  },
  {
   "cell_type": "code",
   "execution_count": 3,
   "metadata": {
    "ExecuteTime": {
     "end_time": "2018-12-05T18:40:12.454463Z",
     "start_time": "2018-12-05T18:40:12.438283Z"
    }
   },
   "outputs": [],
   "source": [
    "# Definition of the domain\n",
    "A = 2\n",
    "\n",
    "# Smapling of the function F\n",
    "nb_samples = 1000\n",
    "X_train = np.random.uniform(-A, +A, (nb_samples, 2))\n",
    "Y_train = np.vectorize(F)(X_train[:,0], X_train[:,1])"
   ]
  },
  {
   "cell_type": "markdown",
   "metadata": {},
   "source": [
    "## 2.2 - Definition of the two layers network"
   ]
  },
  {
   "cell_type": "code",
   "execution_count": 24,
   "metadata": {
    "ExecuteTime": {
     "end_time": "2018-12-05T18:42:57.926412Z",
     "start_time": "2018-12-05T18:42:57.884887Z"
    }
   },
   "outputs": [],
   "source": [
    "# Definition of the model\n",
    "model = Sequential()\n",
    "\n",
    "# Add a layer fully connected with input size 2 and a width of nb_neurons\n",
    "nb_neurons = 20\n",
    "model.add(Dense(nb_neurons, input_shape=(2,)))\n",
    "\n",
    "# Definition of the activation function\n",
    "model.add(Activation('relu'))\n",
    "\n",
    "# Add another layer with only one input size\n",
    "model.add(Dense(1))"
   ]
  },
  {
   "cell_type": "markdown",
   "metadata": {},
   "source": [
    "## 2.3 - Definition of the optimizer and of the loss function"
   ]
  },
  {
   "cell_type": "code",
   "execution_count": 25,
   "metadata": {
    "ExecuteTime": {
     "end_time": "2018-12-05T18:42:58.403163Z",
     "start_time": "2018-12-05T18:42:58.331813Z"
    }
   },
   "outputs": [],
   "source": [
    "# Definiton of the optimizer\n",
    "sgd = SGD(lr=0.01, decay=1e-6, momentum=0.9, nesterov=True)\n",
    "\n",
    "# Definition of the loss function\n",
    "model.compile(loss='mean_squared_error', optimizer=sgd)"
   ]
  },
  {
   "cell_type": "markdown",
   "metadata": {
    "ExecuteTime": {
     "end_time": "2018-12-05T18:27:19.004799Z",
     "start_time": "2018-12-05T18:27:18.988658Z"
    }
   },
   "source": [
    "## 2.4 - Fit of the model"
   ]
  },
  {
   "cell_type": "code",
   "execution_count": 26,
   "metadata": {
    "ExecuteTime": {
     "end_time": "2018-12-05T18:43:03.207077Z",
     "start_time": "2018-12-05T18:42:59.134666Z"
    },
    "scrolled": true
   },
   "outputs": [
    {
     "name": "stdout",
     "output_type": "stream",
     "text": [
      "Epoch 1/50\n",
      "1000/1000 [==============================] - 0s 218us/step - loss: 0.2665\n",
      "Epoch 2/50\n",
      "1000/1000 [==============================] - 0s 78us/step - loss: 0.1026\n",
      "Epoch 3/50\n",
      "1000/1000 [==============================] - 0s 80us/step - loss: 0.0919\n",
      "Epoch 4/50\n",
      "1000/1000 [==============================] - 0s 83us/step - loss: 0.0847\n",
      "Epoch 5/50\n",
      "1000/1000 [==============================] - 0s 76us/step - loss: 0.0780\n",
      "Epoch 6/50\n",
      "1000/1000 [==============================] - 0s 78us/step - loss: 0.0709\n",
      "Epoch 7/50\n",
      "1000/1000 [==============================] - 0s 71us/step - loss: 0.0648\n",
      "Epoch 8/50\n",
      "1000/1000 [==============================] - 0s 73us/step - loss: 0.0575\n",
      "Epoch 9/50\n",
      "1000/1000 [==============================] - 0s 75us/step - loss: 0.0517\n",
      "Epoch 10/50\n",
      "1000/1000 [==============================] - 0s 79us/step - loss: 0.0455\n",
      "Epoch 11/50\n",
      "1000/1000 [==============================] - 0s 75us/step - loss: 0.0395\n",
      "Epoch 12/50\n",
      "1000/1000 [==============================] - 0s 76us/step - loss: 0.0339\n",
      "Epoch 13/50\n",
      "1000/1000 [==============================] - 0s 85us/step - loss: 0.0287\n",
      "Epoch 14/50\n",
      "1000/1000 [==============================] - 0s 78us/step - loss: 0.0244\n",
      "Epoch 15/50\n",
      "1000/1000 [==============================] - 0s 75us/step - loss: 0.0202\n",
      "Epoch 16/50\n",
      "1000/1000 [==============================] - 0s 79us/step - loss: 0.0168\n",
      "Epoch 17/50\n",
      "1000/1000 [==============================] - 0s 71us/step - loss: 0.0143\n",
      "Epoch 18/50\n",
      "1000/1000 [==============================] - 0s 71us/step - loss: 0.0116\n",
      "Epoch 19/50\n",
      "1000/1000 [==============================] - 0s 73us/step - loss: 0.0099\n",
      "Epoch 20/50\n",
      "1000/1000 [==============================] - 0s 77us/step - loss: 0.0083\n",
      "Epoch 21/50\n",
      "1000/1000 [==============================] - 0s 76us/step - loss: 0.0071\n",
      "Epoch 22/50\n",
      "1000/1000 [==============================] - 0s 71us/step - loss: 0.0062\n",
      "Epoch 23/50\n",
      "1000/1000 [==============================] - 0s 71us/step - loss: 0.0054\n",
      "Epoch 24/50\n",
      "1000/1000 [==============================] - 0s 72us/step - loss: 0.0048\n",
      "Epoch 25/50\n",
      "1000/1000 [==============================] - 0s 77us/step - loss: 0.0043\n",
      "Epoch 26/50\n",
      "1000/1000 [==============================] - 0s 88us/step - loss: 0.0039\n",
      "Epoch 27/50\n",
      "1000/1000 [==============================] - 0s 69us/step - loss: 0.0036\n",
      "Epoch 28/50\n",
      "1000/1000 [==============================] - 0s 75us/step - loss: 0.0033\n",
      "Epoch 29/50\n",
      "1000/1000 [==============================] - 0s 81us/step - loss: 0.0031\n",
      "Epoch 30/50\n",
      "1000/1000 [==============================] - 0s 77us/step - loss: 0.0028\n",
      "Epoch 31/50\n",
      "1000/1000 [==============================] - 0s 80us/step - loss: 0.0028\n",
      "Epoch 32/50\n",
      "1000/1000 [==============================] - 0s 79us/step - loss: 0.0026\n",
      "Epoch 33/50\n",
      "1000/1000 [==============================] - 0s 78us/step - loss: 0.0024\n",
      "Epoch 34/50\n",
      "1000/1000 [==============================] - 0s 76us/step - loss: 0.0024\n",
      "Epoch 35/50\n",
      "1000/1000 [==============================] - 0s 76us/step - loss: 0.0022\n",
      "Epoch 36/50\n",
      "1000/1000 [==============================] - 0s 72us/step - loss: 0.0022\n",
      "Epoch 37/50\n",
      "1000/1000 [==============================] - 0s 69us/step - loss: 0.0021\n",
      "Epoch 38/50\n",
      "1000/1000 [==============================] - 0s 70us/step - loss: 0.0021\n",
      "Epoch 39/50\n",
      "1000/1000 [==============================] - 0s 64us/step - loss: 0.0020\n",
      "Epoch 40/50\n",
      "1000/1000 [==============================] - 0s 72us/step - loss: 0.0020\n",
      "Epoch 41/50\n",
      "1000/1000 [==============================] - 0s 79us/step - loss: 0.0020\n",
      "Epoch 42/50\n",
      "1000/1000 [==============================] - 0s 76us/step - loss: 0.0020\n",
      "Epoch 43/50\n",
      "1000/1000 [==============================] - 0s 72us/step - loss: 0.0019\n",
      "Epoch 44/50\n",
      "1000/1000 [==============================] - 0s 76us/step - loss: 0.0019\n",
      "Epoch 45/50\n",
      "1000/1000 [==============================] - 0s 74us/step - loss: 0.0019\n",
      "Epoch 46/50\n",
      "1000/1000 [==============================] - 0s 80us/step - loss: 0.0018\n",
      "Epoch 47/50\n",
      "1000/1000 [==============================] - 0s 68us/step - loss: 0.0018\n",
      "Epoch 48/50\n",
      "1000/1000 [==============================] - 0s 72us/step - loss: 0.0018\n",
      "Epoch 49/50\n",
      "1000/1000 [==============================] - 0s 76us/step - loss: 0.0017\n",
      "Epoch 50/50\n",
      "1000/1000 [==============================] - 0s 67us/step - loss: 0.0017\n"
     ]
    },
    {
     "data": {
      "text/plain": [
       "<keras.callbacks.History at 0x7ff3436c1c50>"
      ]
     },
     "execution_count": 26,
     "metadata": {},
     "output_type": "execute_result"
    }
   ],
   "source": [
    "# Fit of the model\n",
    "model.fit(X_train, Y_train, epochs=50, batch_size=32)"
   ]
  },
  {
   "cell_type": "markdown",
   "metadata": {},
   "source": [
    "## 2.5 - Prediction"
   ]
  },
  {
   "cell_type": "code",
   "execution_count": 28,
   "metadata": {
    "ExecuteTime": {
     "end_time": "2018-12-05T18:43:08.295332Z",
     "start_time": "2018-12-05T18:43:08.287409Z"
    }
   },
   "outputs": [
    {
     "name": "stdout",
     "output_type": "stream",
     "text": [
      "F(x):  0.6532814824381883\n",
      "Prediction:  0.59885144\n"
     ]
    }
   ],
   "source": [
    "# Point to predict\n",
    "x = [1.5, 0.5]\n",
    "print(\"F(x): \", F(x[0], x[1]))\n",
    "\n",
    "# Prediction\n",
    "x = np.array(x).reshape(1, 2)\n",
    "print(\"Prediction: \", model.predict(x)[0][0])"
   ]
  },
  {
   "cell_type": "markdown",
   "metadata": {},
   "source": [
    "## 2.6 - Visualisation of the results"
   ]
  },
  {
   "cell_type": "code",
   "execution_count": 61,
   "metadata": {
    "ExecuteTime": {
     "end_time": "2018-12-05T18:56:47.588928Z",
     "start_time": "2018-12-05T18:56:46.245178Z"
    }
   },
   "outputs": [
    {
     "data": {
      "image/png": "[encoded data removed]",
      "text/plain": [
       "<Figure size 720x720 with 2 Axes>"
      ]
     },
     "metadata": {
      "needs_background": "light"
     },
     "output_type": "display_data"
    }
   ],
   "source": [
    "# Prediction of an image\n",
    "Width = 200\n",
    "Height = 200\n",
    "U = np.linspace(-A, +A, Width)\n",
    "V = np.linspace(-A, +A, Height)\n",
    "\n",
    "# Computes cartesian product between U and V:\n",
    "UV = np.transpose([np.tile(U, len(V)), np.repeat(V, len(U))])\n",
    "#  print(UV)\n",
    "\n",
    "# Computation of the prediction of UV and the true value\n",
    "vF = np.vectorize(F)\n",
    "y_true = vF(UV[:,0], UV[:,1])\n",
    "y_pred = model.predict(UV)\n",
    "\n",
    "# Show the difference between the prediction and the true values as an image\n",
    "I_true = y_true.reshape(Width, Height)\n",
    "I_pred = y_pred.reshape(Width, Height)\n",
    "\n",
    "fig, axs = plt.subplots(ncols=2, figsize=(10,10))\n",
    "axs[0].imshow(I_true, cmap = cm.Greys);\n",
    "axs[1].imshow(I_pred, cmap = cm.Greys);"
   ]
  },
  {
   "cell_type": "markdown",
   "metadata": {},
   "source": [
    "# 3 - Second Examples: CNN for MNIST"
   ]
  },
  {
   "cell_type": "markdown",
   "metadata": {},
   "source": [
    "## 3.1 - Packages"
   ]
  },
  {
   "cell_type": "code",
   "execution_count": 95,
   "metadata": {
    "ExecuteTime": {
     "end_time": "2018-12-05T19:30:20.640194Z",
     "start_time": "2018-12-05T19:30:20.367525Z"
    }
   },
   "outputs": [
    {
     "name": "stdout",
     "output_type": "stream",
     "text": [
      "(60000, 28, 28)\n"
     ]
    }
   ],
   "source": [
    "# Import the MNIST data\n",
    "from keras.datasets import mnist\n",
    "\n",
    "# Load it as training and testing sets\n",
    "(X_train, y_train), (X_test, y_test) = mnist.load_data()\n",
    "\n",
    "# Shape\n",
    "print(X_train.shape)"
   ]
  },
  {
   "cell_type": "markdown",
   "metadata": {},
   "source": [
    "## 3.2 - Visualisation of one sample"
   ]
  },
  {
   "cell_type": "code",
   "execution_count": 96,
   "metadata": {
    "ExecuteTime": {
     "end_time": "2018-12-05T19:30:20.944294Z",
     "start_time": "2018-12-05T19:30:20.758598Z"
    }
   },
   "outputs": [
    {
     "data": {
      "image/png": "[encoded data removed]",
      "text/plain": [
       "<Figure size 432x288 with 1 Axes>"
      ]
     },
     "metadata": {
      "needs_background": "light"
     },
     "output_type": "display_data"
    }
   ],
   "source": [
    "plt.imshow(X_train[0], cmap = cm.Greys);"
   ]
  },
  {
   "cell_type": "markdown",
   "metadata": {},
   "source": [
    "## 3.3 - Reformating the input"
   ]
  },
  {
   "cell_type": "code",
   "execution_count": 97,
   "metadata": {
    "ExecuteTime": {
     "end_time": "2018-12-05T19:30:21.198596Z",
     "start_time": "2018-12-05T19:30:21.083394Z"
    }
   },
   "outputs": [
    {
     "name": "stdout",
     "output_type": "stream",
     "text": [
      "(60000, 28, 28, 1)\n"
     ]
    }
   ],
   "source": [
    "# Reformating the training set\n",
    "X_train = X_train.reshape(X_train.shape[0], 28, 28, 1)\n",
    "X_train = X_train.astype('float32')\n",
    "X_train /= 255\n",
    "print(X_train.shape)\n",
    "\n",
    "# Reformating the testing set\n",
    "X_test = X_test.reshape(X_test.shape[0], 28, 28, 1)\n",
    "X_test = X_test.astype('float32')\n",
    "X_test /= 255"
   ]
  },
  {
   "cell_type": "markdown",
   "metadata": {},
   "source": [
    "## 3.4 - Reformating the output"
   ]
  },
  {
   "cell_type": "code",
   "execution_count": 98,
   "metadata": {
    "ExecuteTime": {
     "end_time": "2018-12-05T19:30:21.418797Z",
     "start_time": "2018-12-05T19:30:21.412607Z"
    }
   },
   "outputs": [
    {
     "name": "stdout",
     "output_type": "stream",
     "text": [
      "(60000,)\n",
      "[5 0 4]\n",
      "[0. 0. 0. 0. 0. 1. 0. 0. 0. 0.]\n"
     ]
    }
   ],
   "source": [
    "# Display the current shape of y\n",
    "print(y_train.shape)\n",
    "print(y_train[0:3])\n",
    "\n",
    "# Cast the value of y as category\n",
    "y_train = np_utils.to_categorical(y_train, 10)\n",
    "print(y_train[0])"
   ]
  },
  {
   "cell_type": "markdown",
   "metadata": {},
   "source": [
    "## 3.5 - Create the model"
   ]
  },
  {
   "cell_type": "code",
   "execution_count": 99,
   "metadata": {
    "ExecuteTime": {
     "end_time": "2018-12-05T19:30:21.835211Z",
     "start_time": "2018-12-05T19:30:21.749019Z"
    }
   },
   "outputs": [
    {
     "name": "stdout",
     "output_type": "stream",
     "text": [
      "(None, 26, 26, 32)\n",
      "(None, 13, 13, 32)\n",
      "(None, 13, 13, 32)\n",
      "After flatten:  (None, 5408)\n",
      "(None, 128)\n",
      "(None, 10)\n"
     ]
    }
   ],
   "source": [
    "# Create a sequential model\n",
    "model = Sequential()\n",
    "\n",
    "# Add a convolutional layer taking input of shape (28, 28, 1) with a kernel of size (3,3) \n",
    "# corresponds to the size of the convolutional function and with an output size of (32), it \n",
    "# corresponds to the number of parallel convoluted images we want to extract for that layer.\n",
    "model.add(Conv2D(32, (3, 3), activation='relu', input_shape=(28, 28, 1)))\n",
    "print(model.output_shape)\n",
    "\n",
    "# Add a maxpooling layer for subsampling.\n",
    "# We take the maximum of the array of size (2,2) on the past features images\n",
    "model.add(MaxPooling2D(pool_size=(2, 2)))\n",
    "print(model.output_shape)\n",
    "\n",
    "# We add a dropout layer that puts to zeros a given percentage of the variables for avoiding \n",
    "# over-fitting at each epoch\n",
    "model.add(Dropout(0.25))\n",
    "print(model.output_shape)\n",
    "\n",
    "# We just transform the parallel features as one big vector of features.\n",
    "model.add(Flatten())\n",
    "print(\"After flatten: \", model.output_shape)\n",
    "\n",
    "# Add a fully connected layer\n",
    "model.add(Dense(128, activation='relu'))\n",
    "print(model.output_shape)\n",
    "\n",
    "# Add a new dropout\n",
    "model.add(Dropout(0.5))\n",
    "\n",
    "# Add a new fully connected layer\n",
    "# Activation softmax: return the exponential of the vector input divided by the sum over\n",
    "# the vector, it is called in French: \"fonction exponentielle normalisée\"\n",
    "model.add(Dense(10, activation='softmax'))\n",
    "print(model.output_shape)"
   ]
  },
  {
   "cell_type": "markdown",
   "metadata": {},
   "source": [
    "## 3.6 - Optimisation of the model"
   ]
  },
  {
   "cell_type": "markdown",
   "metadata": {},
   "source": [
    "* Cross - Entropy\n",
    "\n",
    "$\\mathrm{H}(p,q)= \\mathrm{E}_{p}[-\\log q] = \\mathrm{H}(p) + D_{\\mathrm{KL}}(p\\|q)$\n",
    "\n",
    "* The Adam optimizer is a version of SGD but with adaptative learning rate which performs faster than any other state of the art alforithm."
   ]
  },
  {
   "cell_type": "code",
   "execution_count": 102,
   "metadata": {
    "ExecuteTime": {
     "end_time": "2018-12-05T19:35:17.742316Z",
     "start_time": "2018-12-05T19:35:17.699917Z"
    }
   },
   "outputs": [],
   "source": [
    "# Defnition of the compilator\n",
    "model.compile(loss='categorical_crossentropy', optimizer='adam', metrics=['accuracy'])"
   ]
  },
  {
   "cell_type": "markdown",
   "metadata": {
    "ExecuteTime": {
     "end_time": "2018-12-05T19:35:33.740899Z",
     "start_time": "2018-12-05T19:35:33.736385Z"
    }
   },
   "source": [
    "## 3.7 - Fitting of the models"
   ]
  },
  {
   "cell_type": "code",
   "execution_count": 105,
   "metadata": {
    "ExecuteTime": {
     "end_time": "2018-12-05T19:38:27.764959Z",
     "start_time": "2018-12-05T19:36:05.075715Z"
    }
   },
   "outputs": [
    {
     "name": "stdout",
     "output_type": "stream",
     "text": [
      "Epoch 1/10\n",
      "60000/60000 [==============================] - 17s 282us/step - loss: 0.2473 - acc: 0.9253\n",
      "Epoch 2/10\n",
      "60000/60000 [==============================] - 15s 244us/step - loss: 0.1078 - acc: 0.9677\n",
      "Epoch 3/10\n",
      "60000/60000 [==============================] - 15s 248us/step - loss: 0.0844 - acc: 0.9740\n",
      "Epoch 4/10\n",
      "60000/60000 [==============================] - 14s 225us/step - loss: 0.0725 - acc: 0.9775\n",
      "Epoch 5/10\n",
      "60000/60000 [==============================] - 13s 216us/step - loss: 0.0630 - acc: 0.9806\n",
      "Epoch 6/10\n",
      "60000/60000 [==============================] - 14s 237us/step - loss: 0.0543 - acc: 0.9823\n",
      "Epoch 7/10\n",
      "60000/60000 [==============================] - 15s 250us/step - loss: 0.0491 - acc: 0.9844\n",
      "Epoch 8/10\n",
      "60000/60000 [==============================] - 14s 239us/step - loss: 0.0432 - acc: 0.9860\n",
      "Epoch 9/10\n",
      "60000/60000 [==============================] - 13s 223us/step - loss: 0.0414 - acc: 0.9862\n",
      "Epoch 10/10\n",
      "60000/60000 [==============================] - 13s 209us/step - loss: 0.0391 - acc: 0.9875\n"
     ]
    },
    {
     "data": {
      "text/plain": [
       "<keras.callbacks.History at 0x7ff2b09984a8>"
      ]
     },
     "execution_count": 105,
     "metadata": {},
     "output_type": "execute_result"
    }
   ],
   "source": [
    "model.fit(X_train, y_train, batch_size=32, epochs=10, verbose=1)"
   ]
  },
  {
   "cell_type": "code",
   "execution_count": 112,
   "metadata": {
    "ExecuteTime": {
     "end_time": "2018-12-05T19:43:53.154957Z",
     "start_time": "2018-12-05T19:43:52.987681Z"
    }
   },
   "outputs": [
    {
     "name": "stdout",
     "output_type": "stream",
     "text": [
      "Number predicted:  7\n"
     ]
    },
    {
     "data": {
      "image/png": "[encoded data removed]",
      "text/plain": [
       "<Figure size 432x288 with 1 Axes>"
      ]
     },
     "metadata": {
      "needs_background": "light"
     },
     "output_type": "display_data"
    }
   ],
   "source": [
    "# Display a test number\n",
    "plt.imshow(X_test[0].reshape(28,28), cmap = cm.Greys);\n",
    "\n",
    "# Display the predicted number\n",
    "print(\"Number predicted: \", np.argmax(model.predict(X_test[0].reshape(1, 28, 28, 1))))"
   ]
  },
  {
   "cell_type": "markdown",
   "metadata": {
    "ExecuteTime": {
     "end_time": "2018-12-05T19:44:15.748368Z",
     "start_time": "2018-12-05T19:44:15.744697Z"
    }
   },
   "source": [
    "# 4 - Third Example : Using VGG to Recognize Objects in Images"
   ]
  },
  {
   "cell_type": "markdown",
   "metadata": {},
   "source": [
    "## 4.1 - Import the VGG model"
   ]
  },
  {
   "cell_type": "code",
   "execution_count": 119,
   "metadata": {
    "ExecuteTime": {
     "end_time": "2018-12-05T19:49:53.163754Z",
     "start_time": "2018-12-05T19:47:55.697309Z"
    }
   },
   "outputs": [
    {
     "name": "stdout",
     "output_type": "stream",
     "text": [
      "Downloading data from https://github.com/fchollet/deep-learning-models/releases/download/v0.1/vgg16_weights_tf_dim_ordering_tf_kernels.h5\n",
      "553467904/553467096 [==============================] - 113s 0us/step\n",
      "_________________________________________________________________\n",
      "Layer (type)                 Output Shape              Param #   \n",
      "=================================================================\n",
      "input_1 (InputLayer)         (None, 224, 224, 3)       0         \n",
      "_________________________________________________________________\n",
      "block1_conv1 (Conv2D)        (None, 224, 224, 64)      1792      \n",
      "_________________________________________________________________\n",
      "block1_conv2 (Conv2D)        (None, 224, 224, 64)      36928     \n",
      "_________________________________________________________________\n",
      "block1_pool (MaxPooling2D)   (None, 112, 112, 64)      0         \n",
      "_________________________________________________________________\n",
      "block2_conv1 (Conv2D)        (None, 112, 112, 128)     73856     \n",
      "_________________________________________________________________\n",
      "block2_conv2 (Conv2D)        (None, 112, 112, 128)     147584    \n",
      "_________________________________________________________________\n",
      "block2_pool (MaxPooling2D)   (None, 56, 56, 128)       0         \n",
      "_________________________________________________________________\n",
      "block3_conv1 (Conv2D)        (None, 56, 56, 256)       295168    \n",
      "_________________________________________________________________\n",
      "block3_conv2 (Conv2D)        (None, 56, 56, 256)       590080    \n",
      "_________________________________________________________________\n",
      "block3_conv3 (Conv2D)        (None, 56, 56, 256)       590080    \n",
      "_________________________________________________________________\n",
      "block3_pool (MaxPooling2D)   (None, 28, 28, 256)       0         \n",
      "_________________________________________________________________\n",
      "block4_conv1 (Conv2D)        (None, 28, 28, 512)       1180160   \n",
      "_________________________________________________________________\n",
      "block4_conv2 (Conv2D)        (None, 28, 28, 512)       2359808   \n",
      "_________________________________________________________________\n",
      "block4_conv3 (Conv2D)        (None, 28, 28, 512)       2359808   \n",
      "_________________________________________________________________\n",
      "block4_pool (MaxPooling2D)   (None, 14, 14, 512)       0         \n",
      "_________________________________________________________________\n",
      "block5_conv1 (Conv2D)        (None, 14, 14, 512)       2359808   \n",
      "_________________________________________________________________\n",
      "block5_conv2 (Conv2D)        (None, 14, 14, 512)       2359808   \n",
      "_________________________________________________________________\n",
      "block5_conv3 (Conv2D)        (None, 14, 14, 512)       2359808   \n",
      "_________________________________________________________________\n",
      "block5_pool (MaxPooling2D)   (None, 7, 7, 512)         0         \n",
      "_________________________________________________________________\n",
      "flatten (Flatten)            (None, 25088)             0         \n",
      "_________________________________________________________________\n",
      "fc1 (Dense)                  (None, 4096)              102764544 \n",
      "_________________________________________________________________\n",
      "fc2 (Dense)                  (None, 4096)              16781312  \n",
      "_________________________________________________________________\n",
      "predictions (Dense)          (None, 1000)              4097000   \n",
      "=================================================================\n",
      "Total params: 138,357,544\n",
      "Trainable params: 138,357,544\n",
      "Non-trainable params: 0\n",
      "_________________________________________________________________\n",
      "None\n"
     ]
    }
   ],
   "source": [
    "# Import the VGG model\n",
    "from keras.applications.vgg16 import VGG16\n",
    "\n",
    "# Load it into model\n",
    "model = VGG16()\n",
    "\n",
    "# Display the summary of the model\n",
    "print(model.summary())"
   ]
  },
  {
   "cell_type": "markdown",
   "metadata": {
    "ExecuteTime": {
     "end_time": "2018-12-05T19:46:48.629635Z",
     "start_time": "2018-12-05T19:46:48.625737Z"
    }
   },
   "source": [
    "## 4.2 - Load an image of Cat"
   ]
  },
  {
   "cell_type": "code",
   "execution_count": 131,
   "metadata": {
    "ExecuteTime": {
     "end_time": "2018-12-05T19:54:41.532722Z",
     "start_time": "2018-12-05T19:54:41.497740Z"
    }
   },
   "outputs": [
    {
     "data": {
      "image/png": "[encoded data removed]",
      "text/plain": [
       "<PIL.Image.Image image mode=RGB size=224x224 at 0x7FF2AE40C5C0>"
      ]
     },
     "execution_count": 131,
     "metadata": {},
     "output_type": "execute_result"
    }
   ],
   "source": [
    "# Loads an image from file\n",
    "image = load_img('./Data/Normandie.jpg', target_size=(224, 224))\n",
    "\n",
    "# Display the image\n",
    "image"
   ]
  },
  {
   "cell_type": "code",
   "execution_count": 132,
   "metadata": {
    "ExecuteTime": {
     "end_time": "2018-12-05T19:54:43.032354Z",
     "start_time": "2018-12-05T19:54:43.027905Z"
    }
   },
   "outputs": [
    {
     "name": "stdout",
     "output_type": "stream",
     "text": [
      "(224, 224, 3)\n",
      "(1, 224, 224, 3)\n"
     ]
    }
   ],
   "source": [
    "# converts the image pixels to a numpy array:\n",
    "image = img_to_array(image)\n",
    "print(image.shape)\n",
    "\n",
    "# Reshape the image\n",
    "image = image.reshape((1, image.shape[0], image.shape[1], image.shape[2]))\n",
    "print(image.shape)"
   ]
  },
  {
   "cell_type": "markdown",
   "metadata": {},
   "source": [
    "## 4.3 - Prediction of the image"
   ]
  },
  {
   "cell_type": "code",
   "execution_count": 133,
   "metadata": {
    "ExecuteTime": {
     "end_time": "2018-12-05T19:54:44.255192Z",
     "start_time": "2018-12-05T19:54:44.197468Z"
    }
   },
   "outputs": [
    {
     "name": "stdout",
     "output_type": "stream",
     "text": [
      "(1, 1000)\n",
      "[[('n03673027', 'liner', 0.99988735), ('n03216828', 'dock', 5.280928e-05), ('n03095699', 'container_ship', 2.3875438e-05), ('n03874293', 'paddlewheel', 7.1832087e-06), ('n04347754', 'submarine', 5.5784813e-06)]]\n"
     ]
    }
   ],
   "source": [
    "# Prediction for the image\n",
    "y_pred = model.predict(image)\n",
    "print(y_pred.shape)\n",
    "\n",
    "# convert the probabilities to class labels\n",
    "from keras.applications.vgg16 import decode_predictions\n",
    "labels_pred = decode_predictions(y_pred)\n",
    "print(labels_pred)"
   ]
  },
  {
   "cell_type": "code",
   "execution_count": null,
   "metadata": {},
   "outputs": [],
   "source": []
  }
 ],
 "metadata": {
  "kernelspec": {
   "display_name": "Python 3",
   "language": "python",
   "name": "python3"
  },
  "language_info": {
   "codemirror_mode": {
    "name": "ipython",
    "version": 3
   },
   "file_extension": ".py",
   "mimetype": "text/x-python",
   "name": "python",
   "nbconvert_exporter": "python",
   "pygments_lexer": "ipython3",
   "version": "3.6.3"
  },
  "latex_envs": {
   "LaTeX_envs_menu_present": true,
   "autoclose": false,
   "autocomplete": true,
   "bibliofile": "biblio.bib",
   "cite_by": "apalike",
   "current_citInitial": 1,
   "eqLabelWithNumbers": true,
   "eqNumInitial": 1,
   "hotkeys": {
    "equation": "Ctrl-E",
    "itemize": "Ctrl-I"
   },
   "labels_anchors": false,
   "latex_user_defs": false,
   "report_style_numbering": false,
   "user_envs_cfg": false
  },
  "varInspector": {
   "cols": {
    "lenName": 16,
    "lenType": 16,
    "lenVar": 40
   },
   "kernels_config": {
    "python": {
     "delete_cmd_postfix": "",
     "delete_cmd_prefix": "del ",
     "library": "var_list.py",
     "varRefreshCmd": "print(var_dic_list())"
    },
    "r": {
     "delete_cmd_postfix": ") ",
     "delete_cmd_prefix": "rm(",
     "library": "var_list.r",
     "varRefreshCmd": "cat(var_dic_list()) "
    }
   },
   "types_to_exclude": [
    "module",
    "function",
    "builtin_function_or_method",
    "instance",
    "_Feature"
   ],
   "window_display": false
  }
 },
 "nbformat": 4,
 "nbformat_minor": 2
}
