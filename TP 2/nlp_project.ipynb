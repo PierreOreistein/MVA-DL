{
 "cells": [
  {
   "cell_type": "markdown",
   "metadata": {},
   "source": [
    "# Deep Learning for NLP - Project"
   ]
  },
  {
   "cell_type": "markdown",
   "metadata": {},
   "source": [
    "RULES:\n",
    "\n",
    "* Do not create any additional cell\n",
    "\n",
    "* Fill in the blanks\n",
    "\n",
    "* All cells should be runnable (modulo trivial compatibility bugs that we'd fix)\n",
    "\n",
    "* 4 / 20 points will be allocated to the clarity of your code\n",
    "\n",
    "* Efficient code will have a bonus\n",
    "\n",
    "DELIVERABLE:\n",
    "\n",
    "* this notebook\n",
    "* the predictions of the SST test set\n",
    "\n",
    "DO NOT INCLUDE THE DATASETS IN THE DELIVERABLE.."
   ]
  },
  {
   "cell_type": "code",
   "execution_count": 3,
   "metadata": {
    "ExecuteTime": {
     "end_time": "2019-01-11T21:19:55.213999Z",
     "start_time": "2019-01-11T21:19:55.203410Z"
    }
   },
   "outputs": [],
   "source": [
    "import io\n",
    "import os\n",
    "import numpy as np\n",
    "import scipy\n",
    "\n",
    "# Graphic Packages\n",
    "%matplotlib inline\n",
    "import matplotlib.pyplot as plt\n",
    "import seaborn as sns\n",
    "sns.set()\n",
    "\n",
    "# Sklearn packages\n",
    "import sklearn.linear_model as sklin_mod\n",
    "import sklearn.model_selection as skmod_selec\n",
    "import sklearn.ensemble as skens\n",
    "import sklearn.decomposition as skdeco\n",
    "import sklearn.svm as sksvm\n",
    "import sklearn.naive_bayes as sknb\n",
    "\n",
    "# Progress bar\n",
    "import tqdm as tqdm"
   ]
  },
  {
   "cell_type": "code",
   "execution_count": 4,
   "metadata": {
    "ExecuteTime": {
     "end_time": "2019-01-11T21:19:55.512938Z",
     "start_time": "2019-01-11T21:19:55.509256Z"
    }
   },
   "outputs": [],
   "source": [
    "PATH_TO_DATA = \"./Data/\""
   ]
  },
  {
   "cell_type": "markdown",
   "metadata": {},
   "source": [
    "# 1) Monolingual (English) word embeddings "
   ]
  },
  {
   "cell_type": "code",
   "execution_count": 5,
   "metadata": {
    "ExecuteTime": {
     "end_time": "2019-01-11T21:19:56.234777Z",
     "start_time": "2019-01-11T21:19:56.223741Z"
    }
   },
   "outputs": [],
   "source": [
    "class Word2vec():\n",
    "    def __init__(self, fname, nmax=100000, classification=False):\n",
    "        self.load_wordvec(fname, nmax)\n",
    "        self.word2id = dict.fromkeys(self.word2vec.keys())\n",
    "        for i, k in enumerate(self.word2id.keys()): self.word2id[k] = i\n",
    "        self.id2word = {v: k for k, v in self.word2id.items()}\n",
    "        self.embeddings = np.array(self.word2vec.values())\n",
    "        \n",
    "    def load_wordvec(self, fname, nmax):\n",
    "        self.word2vec = {}\n",
    "        with io.open(fname, encoding='utf-8') as f:\n",
    "            next(f)\n",
    "            for i, line in enumerate(f):\n",
    "                word, vec = line.split(' ', 1)\n",
    "                self.word2vec[word] = np.fromstring(vec, sep=' ')\n",
    "                if i == (nmax - 1):\n",
    "                    break\n",
    "        print('Loaded %s pretrained word vectors' % (len(self.word2vec)))\n",
    "\n",
    "    def most_similar(self, w, K=5):\n",
    "        # Scores\n",
    "        scores = np.array([self.score(wi, w) for wi in self.word2id.keys()])\n",
    "        \n",
    "        # K most similar words: self.score  -  np.argsort \n",
    "        idx_K_most_similar = np.argsort(scores)[-(K+1):-1]\n",
    "        K_most_similar = np.array([self.id2word[k] for k in idx_K_most_similar])\n",
    "        \n",
    "        return K_most_similar\n",
    "\n",
    "    def score(self, w1, w2):\n",
    "        \n",
    "        # Extract vector value\n",
    "        vw1 = self.word2vec[w1]\n",
    "        if type(w2) == str:\n",
    "            vw2 = self.word2vec[w2]\n",
    "        else:\n",
    "            vw2 = w2\n",
    "        \n",
    "        # cosine similarity: np.dot  -  np.linalg.norm\n",
    "        score = np.dot(vw1.T, vw2)\n",
    "        score /= (np.linalg.norm(vw1) * np.linalg.norm(vw2))\n",
    "        \n",
    "        return score"
   ]
  },
  {
   "cell_type": "code",
   "execution_count": 6,
   "metadata": {
    "ExecuteTime": {
     "end_time": "2019-01-11T21:20:15.913956Z",
     "start_time": "2019-01-11T21:19:56.564594Z"
    }
   },
   "outputs": [
    {
     "name": "stdout",
     "output_type": "stream",
     "text": [
      "Loaded 200000 pretrained word vectors\n",
      "cat dog 0.671683666279249\n",
      "dog pet 0.6842064029669219\n",
      "dogs cats 0.7074389328052404\n",
      "paris france 0.7775108541288563\n",
      "germany berlin 0.7420295235998394\n",
      "['kitties' 'feline' 'kitten' 'kitty' 'cats']\n",
      "['canine' 'doggie' 'Dog' 'puppy' 'dogs']\n",
      "['canines' 'doggies' 'Dogs' 'pooches' 'dog']\n",
      "['berlin' 'london' 'parisian' 'Paris' 'france']\n",
      "['poland' 'berlin' 'german' 'europe' 'austria']\n"
     ]
    }
   ],
   "source": [
    "w2v = Word2vec(os.path.join(PATH_TO_DATA, 'crawl-300d-200k.vec'), nmax=200000)\n",
    "\n",
    "# You will be evaluated on the output of the following:\n",
    "for w1, w2 in zip(('cat', 'dog', 'dogs', 'paris', 'germany'), \n",
    "                  ('dog', 'pet', 'cats', 'france', 'berlin')):\n",
    "    print(w1, w2, w2v.score(w1, w2))\n",
    "\n",
    "for w1 in ['cat', 'dog', 'dogs', 'paris', 'germany']:\n",
    "    print(w2v.most_similar(w1))"
   ]
  },
  {
   "cell_type": "code",
   "execution_count": 7,
   "metadata": {
    "ExecuteTime": {
     "end_time": "2019-01-11T21:20:15.937032Z",
     "start_time": "2019-01-11T21:20:15.921681Z"
    }
   },
   "outputs": [],
   "source": [
    "class BoV():\n",
    "    def __init__(self, w2v):\n",
    "        self.w2v = w2v\n",
    "        self.sentemb = {}\n",
    "        \n",
    "    def readInW2V(self, word):\n",
    "        \"\"\"Extract the value of word if present in w2v.\"\"\"\n",
    "         \n",
    "        vec = self.w2v.word2vec.get(word, np.zeros((300)))\n",
    "        return vec\n",
    "    \n",
    "    def encode(self, sentences, idf=False):\n",
    "        # takes a list of sentences, outputs a dict of sentence embeddings\n",
    "        # see TP1 for help\n",
    "        \n",
    "        result = np.zeros((len(sentences), 300))        \n",
    "        \n",
    "        for i, sent in enumerate(sentences):\n",
    "            if idf is False:\n",
    "                # mean of word vectors\n",
    "                # assert False, 'TODO: fill in the blank'\n",
    "                sums = 0\n",
    "                words = sent.rstrip().split(' ')\n",
    "                for w in words:\n",
    "                    sums += self.readInW2V(w)\n",
    "                    \n",
    "                self.sentemb[sent] =  sums / len(words)\n",
    "                result[i, :] = sums\n",
    "                \n",
    "            else:\n",
    "                # idf-weighted mean of word vectors\n",
    "                # assert False, 'TODO: fill in the blank'\n",
    "                sums = 0\n",
    "                sum_idf = 0\n",
    "                words = sent.rstrip().split(' ')\n",
    "                for w in words:\n",
    "                    sums += idf[w] * self.readInW2V(w)\n",
    "                    sum_idf += idf[w]\n",
    "                \n",
    "                self.sentemb[sent] =  sums / sum_idf\n",
    "                result[i, :] = sums\n",
    "                \n",
    "        return result\n",
    "\n",
    "    def most_similar(self, s, sentences, idf=False, K=5):\n",
    "        # get most similar sentences and **print** them\n",
    "        self.encode(sentences, idf)\n",
    "        self.encode([s], idf)\n",
    "        \n",
    "        # Scores with all the sentences\n",
    "        scores = np.array([self.score(si, s) for si in self.sentemb.keys()])\n",
    "        \n",
    "        # K most similar\n",
    "        idx_K_most_similar = np.argsort(scores)[-(K+1):-1]\n",
    "        keys = list(self.sentemb.keys())\n",
    "        K_most_similar = np.array([keys[k] for k in idx_K_most_similar])\n",
    "        \n",
    "        return K_most_similar\n",
    "\n",
    "    def score(self, s1, s2, idf=False):\n",
    "        # Extract vector value\n",
    "        vs1 = self.sentemb[s1]\n",
    "        vs2 = self.sentemb[s2]\n",
    "        \n",
    "        # cosine similarity: np.dot  -  np.linalg.norm\n",
    "        score = np.dot(vs1.T, vs2)\n",
    "        score /= (np.linalg.norm(vs1) * np.linalg.norm(vs2))\n",
    "        \n",
    "        return score\n",
    "    \n",
    "    def build_idf(self, sentences):\n",
    "        # build the idf dictionary: associate each word to its idf value\n",
    "        idf = {}\n",
    "        \n",
    "        for sent in sentences:\n",
    "            words = set(sent.rstrip().split(' '))\n",
    "            for w in words:\n",
    "                idf[w] = idf.get(w, 0) + 1\n",
    "    \n",
    "#         max(1, np.log10(len(sentences) / (idf[word])))\n",
    "\n",
    "        for w in idf.keys():\n",
    "            idf[w] = np.log10(len(sentences) / (idf[w]))\n",
    "            \n",
    "        return idf"
   ]
  },
  {
   "cell_type": "code",
   "execution_count": null,
   "metadata": {
    "ExecuteTime": {
     "start_time": "2019-01-11T21:19:57.847Z"
    }
   },
   "outputs": [
    {
     "name": "stdout",
     "output_type": "stream",
     "text": [
      "Loaded 200000 pretrained word vectors\n",
      "\n",
      "------ Without IDF -------\n",
      "Sentence 10:  1 smiling african american boy . \n",
      " K most similar to sentence 10: \n",
      " ['a girl in black hat holding an african american baby . \\n'\n",
      " 'an african american man is sitting . \\n'\n",
      " 'an afican american woman standing behind two small african american children . \\n'\n",
      " 'a little african american boy and girl looking up . \\n'\n",
      " 'an african american man smiling . \\n'] \n",
      "\n",
      "Sentence 7:  1 man singing and 1 man playing a saxophone in a concert . \n",
      " Sentence 13:  10 people venture out to go crosscountry skiing . \n",
      "\n",
      "Score between the past two:  0.5726258859719605\n",
      "\n",
      "\n",
      "------ With IDF -------\n"
     ]
    }
   ],
   "source": [
    "w2v = Word2vec(os.path.join(PATH_TO_DATA, 'crawl-300d-200k.vec'), nmax=200000)\n",
    "s2v = BoV(w2v)\n",
    "\n",
    "# Load sentences in \"PATH_TO_DATA/sentences.txt\"\n",
    "sentences = []\n",
    "fname = os.path.join(PATH_TO_DATA, 'sentences.txt')\n",
    "with io.open(fname, encoding='utf-8') as f:\n",
    "    for i, line in enumerate(f):\n",
    "        sentences.append(line)\n",
    "\n",
    "# You will be evaluated on the output of the following:\n",
    "print(\"\\n------ Without IDF -------\")\n",
    "print(\"Sentence 10: \", sentences[10],\n",
    "      \"K most similar to sentence 10: \\n\",\n",
    "      s2v.most_similar(sentences[10], sentences), \"\\n\")  # BoV-mean\n",
    "print(\"Sentence 7: \", sentences[7], \"Sentence 13: \", sentences[13])\n",
    "print(\"Score between the past two: \", s2v.score(sentences[7], sentences[13]))\n",
    "\n",
    "# Build idf scores for each word\n",
    "idf = s2v.build_idf(sentences)\n",
    "\n",
    "print(\"\\n\\n------ With IDF -------\")\n",
    "print(\"Sentence 10: \", sentences[10], \n",
    "      \"K most similar to sentence 10: \\n\",\n",
    "      s2v.most_similar(sentences[10], sentences, idf), \"\\n\")  # BoV-mean\n",
    "print(\"Sentence 7: \", sentences[7], \"Sentence 13: \", sentences[13])\n",
    "print(\"Score between the past two: \", s2v.score(sentences[7], sentences[13], idf))"
   ]
  },
  {
   "cell_type": "markdown",
   "metadata": {},
   "source": [
    "# 2) Multilingual (English-French) word embeddings"
   ]
  },
  {
   "cell_type": "markdown",
   "metadata": {},
   "source": [
    "Let's consider a bilingual dictionary of size V_a (e.g French-English).\n",
    "\n",
    "Let's define **X** and **Y** the **French** and **English** matrices.\n",
    "\n",
    "They contain the embeddings associated to the words in the bilingual dictionary.\n",
    "\n",
    "We want to find a **mapping W** that will project the source word space (e.g French) to the target word space (e.g English).\n",
    "\n",
    "Procrustes : **W\\* = argmin || W.X - Y ||  s.t  W^T.W = Id**\n",
    "has a closed form solution:\n",
    "**W = U.V^T  where  U.Sig.V^T = SVD(Y.X^T)**\n",
    "\n",
    "In what follows, you are asked to: "
   ]
  },
  {
   "cell_type": "code",
   "execution_count": 7,
   "metadata": {
    "ExecuteTime": {
     "end_time": "2019-01-11T21:02:27.690788Z",
     "start_time": "2019-01-11T21:02:22.818678Z"
    }
   },
   "outputs": [
    {
     "name": "stdout",
     "output_type": "stream",
     "text": [
      "Loaded 50000 pretrained word vectors\n",
      "Loaded 50000 pretrained word vectors\n"
     ]
    }
   ],
   "source": [
    "# 1 - Download and load 50k first vectors of\n",
    "#     https://s3-us-west-1.amazonaws.com/fasttext-vectors/wiki.en.vec\n",
    "#     https://s3-us-west-1.amazonaws.com/fasttext-vectors/wiki.fr.vec\n",
    "\n",
    "# Read the data\n",
    "w2v_en = Word2vec(os.path.join(PATH_TO_DATA, 'wiki.en.vec'), nmax=50000)\n",
    "w2v_fr = Word2vec(os.path.join(PATH_TO_DATA, 'wiki.fr.vec'), nmax=50000)"
   ]
  },
  {
   "cell_type": "code",
   "execution_count": 8,
   "metadata": {
    "ExecuteTime": {
     "end_time": "2019-01-11T21:02:27.841293Z",
     "start_time": "2019-01-11T21:02:27.770253Z"
    }
   },
   "outputs": [
    {
     "name": "stdout",
     "output_type": "stream",
     "text": [
      "(300, 18970) (300, 18970)\n"
     ]
    }
   ],
   "source": [
    "# 2 - Get words that appear in both vocabs (= identical character strings)\n",
    "#     Use it to create the matrix X and Y (of aligned embeddings for these words)\n",
    "\n",
    "def ics(w2v_en, w2v_fr):\n",
    "    \"\"\"Return X, Y the matrices corresponding to the vocabs appearing in both\n",
    "       word2Vec_en and word2Vec_fr.\"\"\"\n",
    "    \n",
    "    # Initialisation of X and Y\n",
    "    X = []\n",
    "    Y = []\n",
    "    \n",
    "    # Add key if present in both word2vec\n",
    "    for word_fr, vec_fr in w2v_fr.word2vec.items():\n",
    "        \n",
    "        # Extract vec_en if word_fr is in word2vec_en, 0 otherwise\n",
    "        vec_en = w2v_en.word2vec.get(word_fr, 0)\n",
    "        if type(vec_en) != int:\n",
    "            X.append(vec_fr)\n",
    "            Y.append(vec_en)\n",
    "            \n",
    "    # COnvert as array and transpose it\n",
    "    X = np.array(X).T\n",
    "    Y = np.array(Y).T\n",
    "            \n",
    "    return X, Y\n",
    "\n",
    "# Creation of the matrices X and Y\n",
    "X, Y = ics(w2v_en, w2v_fr)\n",
    "print(np.shape(X), np.shape(Y))"
   ]
  },
  {
   "cell_type": "code",
   "execution_count": 9,
   "metadata": {
    "ExecuteTime": {
     "end_time": "2019-01-11T21:02:28.079017Z",
     "start_time": "2019-01-11T21:02:27.923039Z"
    }
   },
   "outputs": [],
   "source": [
    "# 3 - Solve the Procrustes using the scipy package and: scipy.linalg.svd() and get the optimal W\n",
    "#     Now W*French_vector is in the same space as English_vector\n",
    "\n",
    "# Compute the svd of Y * X^T\n",
    "U, s, Vh = scipy.linalg.svd(np.dot(Y, X.T))\n",
    "\n",
    "# Compute W\n",
    "W = np.dot(U, Vh)"
   ]
  },
  {
   "cell_type": "code",
   "execution_count": 10,
   "metadata": {
    "ExecuteTime": {
     "end_time": "2019-01-11T21:02:29.363823Z",
     "start_time": "2019-01-11T21:02:28.272908Z"
    }
   },
   "outputs": [
    {
     "name": "stdout",
     "output_type": "stream",
     "text": [
      "----French to English------\n",
      "French to translate:  lucifer\n",
      "K most similar words in english:  ['demonic' 'god' 'magus' 'hades' 'satan']\n",
      "\n",
      "----English to French------\n",
      "English to translate:  participates\n",
      "K most similar words in French:  ['participé' 'intervenant' 'organise' 'participe' 'participant']\n"
     ]
    }
   ],
   "source": [
    "# 4 - After alignment with W, give examples of English nearest neighbors of some French words (and vice versa)\n",
    "#     You will be evaluated on that part and the code above\n",
    "\n",
    "\n",
    "# Extract a random french word\n",
    "print(\"----French to English------\")\n",
    "word_fr = \"lucifer\" # np.random.choice(list(w2v_fr.word2vec.keys())) #saccage, éden, multiplié\n",
    "vec_fr = w2v_fr.word2vec[word_fr]\n",
    "print(\"French to translate: \", word_fr)\n",
    "\n",
    "# Transform the french word as an english vector through W\n",
    "translated_word_fr = np.dot(W, vec_fr)\n",
    "\n",
    "# Find the K closest english words\n",
    "k_en_words = w2v_en.most_similar(translated_word_fr)\n",
    "print(\"K most similar words in english: \", k_en_words)\n",
    "\n",
    "\n",
    "# Extract a random English word\n",
    "print(\"\\n----English to French------\")\n",
    "word_en = \"participates\" # beehive, forfeit, palace # np.random.choice(list(w2v_en.word2vec.keys())) \n",
    "vec_en = w2v_en.word2vec[word_en]\n",
    "print(\"English to translate: \", word_en)\n",
    "\n",
    "# Transform the french word as an english vector through W\n",
    "translated_word_en = np.dot(W.T, vec_en)\n",
    "\n",
    "# Find the K closest english words\n",
    "k_fr_words = w2v_fr.most_similar(translated_word_en)\n",
    "print(\"K most similar words in French: \", k_fr_words)"
   ]
  },
  {
   "cell_type": "markdown",
   "metadata": {},
   "source": [
    "If you want to dive deeper on this subject: https://github.com/facebookresearch/MUSE"
   ]
  },
  {
   "cell_type": "markdown",
   "metadata": {},
   "source": [
    "***Commentaries:***\n",
    "\n",
    "We have to be careful because some English words are present in the wiki.fr.vec database and some French words are also present in the wiki.en.vec database."
   ]
  },
  {
   "cell_type": "markdown",
   "metadata": {},
   "source": [
    "# 3) Sentence classification with BoV and scikit-learn"
   ]
  },
  {
   "cell_type": "code",
   "execution_count": 11,
   "metadata": {
    "ExecuteTime": {
     "end_time": "2019-01-11T21:02:29.490775Z",
     "start_time": "2019-01-11T21:02:29.451901Z"
    }
   },
   "outputs": [],
   "source": [
    "# 1 - Load train/dev/test of Stanford Sentiment TreeBank (SST)\n",
    "#     (https://nlp.stanford.edu/~socherr/EMNLP2013_RNTN.pdf)\n",
    "\n",
    "def readSentenceClassification(fname, with_labels=True):\n",
    "    \"\"\"Extract the labels and the sentence in to different matrices.\"\"\"\n",
    "\n",
    "    # arrays for labels and sentences\n",
    "    X = []\n",
    "    Y = []\n",
    "    \n",
    "    # Extract the labels and sentences from fname\n",
    "    with io.open(fname, encoding='utf-8') as f:\n",
    "        for i, line in enumerate(f):\n",
    "\n",
    "            X.append(line[1:])\n",
    "            \n",
    "            if with_labels:\n",
    "                Y.append(line[0])\n",
    "            \n",
    "    # Convert Y as a vector\n",
    "    Y = np.array(Y)\n",
    "    \n",
    "    # Return results\n",
    "    if with_labels:\n",
    "        return X, Y\n",
    "    else:\n",
    "        return X\n",
    "    \n",
    "# Load the dev, train and test dataset\n",
    "X_dev, Y_dev = readSentenceClassification(os.path.join(PATH_TO_DATA, 'SST/stsa.fine.dev')) \n",
    "X_train, Y_train = readSentenceClassification(os.path.join(PATH_TO_DATA, 'SST/stsa.fine.train'))\n",
    "X_test = readSentenceClassification(os.path.join(PATH_TO_DATA, 'SST/stsa.fine.test.X'),\n",
    "                                    with_labels=False) \n",
    "\n",
    "# Convert labels as int\n",
    "Y_dev = Y_dev.astype(int)\n",
    "Y_train = Y_train.astype(int)"
   ]
  },
  {
   "cell_type": "code",
   "execution_count": 12,
   "metadata": {
    "ExecuteTime": {
     "end_time": "2019-01-11T21:02:39.493644Z",
     "start_time": "2019-01-11T21:02:29.585015Z"
    }
   },
   "outputs": [
    {
     "name": "stdout",
     "output_type": "stream",
     "text": [
      "Loaded 200000 pretrained word vectors\n"
     ]
    }
   ],
   "source": [
    "# 2 - Encode sentences with the BoV model above\n",
    "w2v = Word2vec(os.path.join(PATH_TO_DATA, 'crawl-300d-200k.vec'), nmax=200000)\n",
    "bov = BoV(w2v)\n",
    "\n",
    "# Compute the IDF\n",
    "X_total = []\n",
    "X_total.extend(X_dev)\n",
    "X_total.extend(X_train)\n",
    "X_total.extend(X_test)\n",
    "idf = bov.build_idf(X_total) # False\n",
    "\n",
    "# Encode dev dataset\n",
    "# idf_dev = bov.build_idf(X_dev) # False\n",
    "X_dev_encoded = bov.encode(X_dev, idf=idf)\n",
    "\n",
    "# Encode train dataset\n",
    "# idf_train = bov.build_idf(X_train) # False\n",
    "X_train_encoded = bov.encode(X_train, idf=idf)\n",
    "\n",
    "# Encode test dataset\n",
    "# idf_test = bov.build_idf(X_test) # False\n",
    "X_test_encoded = bov.encode(X_test, idf=idf)"
   ]
  },
  {
   "cell_type": "code",
   "execution_count": 13,
   "metadata": {
    "ExecuteTime": {
     "end_time": "2019-01-11T21:02:47.348772Z",
     "start_time": "2019-01-11T21:02:39.613184Z"
    },
    "scrolled": true
   },
   "outputs": [
    {
     "name": "stdout",
     "output_type": "stream",
     "text": [
      "Best score:  0.4336376404494382\n",
      "Best parameters:  {'C': 0.0001, 'fit_intercept': False, 'penalty': 'l2', 'solver': 'newton-cg'}\n"
     ]
    }
   ],
   "source": [
    "# 3 - Learn Logistic Regression on top of sentence embeddings using scikit-learn\n",
    "#     (consider tuning the L2 regularization on the dev set)\n",
    "\n",
    "# GridSearch for the best parameters\n",
    "parameters = {'fit_intercept': [False],\n",
    "              'C': [10e-5], # [10 ** (i) for i in np.linspace(-5, 0, 5)],\n",
    "              'penalty': ['l2'],\n",
    "              'solver': ['newton-cg']}\n",
    "\n",
    "# Model and GridSearch\n",
    "log_reg = sklin_mod.LogisticRegression(multi_class='multinomial')\n",
    "clf =  skmod_selec.GridSearchCV(log_reg, parameters, cv=5)\n",
    "\n",
    "# Executes \n",
    "clf.fit(X_train_encoded, Y_train)\n",
    "\n",
    "# Print best scores and best parameters\n",
    "print(\"Best score: \", clf.best_score_)\n",
    "print(\"Best parameters: \", clf.best_params_)"
   ]
  },
  {
   "cell_type": "markdown",
   "metadata": {},
   "source": [
    "***Commentaries***\n",
    "\n",
    "We can perform also a PCA on the vectors to reduce their dimensionnality however, it reduces significantly the performance of classification."
   ]
  },
  {
   "cell_type": "code",
   "execution_count": 14,
   "metadata": {
    "ExecuteTime": {
     "end_time": "2019-01-11T21:02:47.587806Z",
     "start_time": "2019-01-11T21:02:47.564129Z"
    }
   },
   "outputs": [],
   "source": [
    "# 4 - Produce 2210 predictions for the test set (in the same order). One line = one prediction (=0,1,2,3,4).\n",
    "#     Attach the output file \"logreg_bov_y_test_sst.txt\" to your deliverable.\n",
    "#     You will be evaluated on the results of the test set.\n",
    "\n",
    "# Predict the labels for the testing set with the best parameters found\n",
    "Y_pred = clf.predict(X_test_encoded)\n",
    "\n",
    "# Save the labels predicted in an array\n",
    "np.savetxt(\"./Results/logreg_bov_y_test_sst.txt\", Y_pred)"
   ]
  },
  {
   "cell_type": "code",
   "execution_count": 15,
   "metadata": {
    "ExecuteTime": {
     "end_time": "2019-01-11T21:06:12.207192Z",
     "start_time": "2019-01-11T21:02:47.759853Z"
    },
    "scrolled": true
   },
   "outputs": [
    {
     "name": "stdout",
     "output_type": "stream",
     "text": [
      "Best score:  0.42544475655430714\n",
      "Best parameters:  {'C': 0.0005}\n"
     ]
    }
   ],
   "source": [
    "# BONUS!\n",
    "# 5 - Try to improve performance with another classifier\n",
    "#     Attach the output file \"XXX_bov_y_test_sst.txt\" to your deliverable (where XXX = the name of the classifier)\n",
    "\n",
    "def testModel(model, params, saving_name=\"random_forest\"):\n",
    "    \"\"\"Test the accuracy of a model with a grid search.\"\"\"\n",
    "    \n",
    "    # GridSerach on the model\n",
    "    clf =  skmod_selec.GridSearchCV(model, params, cv=5)\n",
    "\n",
    "    # Fitting\n",
    "    clf.fit(X_train_encoded, Y_train)\n",
    "\n",
    "    # Print best scores and best parameters\n",
    "    print(\"Best score: \", clf.best_score_)\n",
    "    print(\"Best parameters: \", clf.best_params_)\n",
    "\n",
    "    # Predict the labels for the testing set with the best parameters found\n",
    "    Y_pred = clf.predict(X_test_encoded)\n",
    "\n",
    "    # Save the labels predicted in an array\n",
    "    np.savetxt(\"./Results/\" + saving_name + \"_bov_y_test_sst.txt\", Y_pred, delimiter=\",\")\n",
    "    \n",
    "## Random Forest\n",
    "# GridSearch for the best parameters\n",
    "# parameters = {'n_estimators': [150], #np.linspace(50, 200, 10, dtype=int),\n",
    "#               'criterion': [\"gini\"],\n",
    "#               \"bootstrap\": [False],\n",
    "#               \"oob_score\": [False]}\n",
    "\n",
    "# # Model and GridSearch\n",
    "# rFC = skens.RandomForestClassifier()\n",
    "\n",
    "## SVC\n",
    "# GridSearch for the best parameters\n",
    "parameters = {'C': [0.0005]\n",
    "             }\n",
    "\n",
    "# model\n",
    "svc = sksvm.SVC(gamma=\"scale\", max_iter=-1, kernel=\"linear\")\n",
    "\n",
    "# Computes results\n",
    "testModel(svc, parameters, saving_name=\"XXX\")"
   ]
  },
  {
   "cell_type": "markdown",
   "metadata": {},
   "source": [
    "***Commentaries***:\n",
    "\n",
    "The Random Forest Classifier performs lower than the classic logistic Regression.\n",
    "The SVC performs as weel as the logistic Rgeression. We did not suceed to improve the results."
   ]
  },
  {
   "cell_type": "markdown",
   "metadata": {},
   "source": [
    "# 4) Sentence classification with LSTMs in Keras"
   ]
  },
  {
   "cell_type": "markdown",
   "metadata": {},
   "source": [
    "## 4.1 - Preprocessing"
   ]
  },
  {
   "cell_type": "code",
   "execution_count": null,
   "metadata": {
    "ExecuteTime": {
     "start_time": "2019-01-11T21:20:04.125Z"
    }
   },
   "outputs": [],
   "source": [
    "import keras\n",
    "from keras.models import Sequential\n",
    "from keras.layers import Embedding, LSTM, Dense, Activation, SimpleRNN\n",
    "from keras.utils import to_categorical"
   ]
  },
  {
   "cell_type": "code",
   "execution_count": null,
   "metadata": {
    "ExecuteTime": {
     "start_time": "2019-01-11T21:20:04.565Z"
    }
   },
   "outputs": [],
   "source": [
    "# 1 - Load train/dev/test sets of SST\n",
    "PATH_TO_DATA = \"./Data/\"\n",
    "\n",
    "# Load the dev, train and test dataset\n",
    "X_dev, Y_dev = readSentenceClassification(os.path.join(PATH_TO_DATA, 'SST/stsa.fine.dev')) \n",
    "X_train, Y_train = readSentenceClassification(os.path.join(PATH_TO_DATA, 'SST/stsa.fine.train'))\n",
    "X_test = readSentenceClassification(os.path.join(PATH_TO_DATA, 'SST/stsa.fine.test.X'),\n",
    "                                    with_labels=False) \n",
    "\n",
    "# Convert labels as int\n",
    "Y_dev = Y_dev.astype(int)\n",
    "Y_train = Y_train.astype(int)"
   ]
  },
  {
   "cell_type": "code",
   "execution_count": 27,
   "metadata": {
    "ExecuteTime": {
     "end_time": "2019-01-11T21:09:56.352923Z",
     "start_time": "2019-01-11T21:09:56.105729Z"
    }
   },
   "outputs": [],
   "source": [
    "# 2 - Transform text to integers using keras.preprocessing.text.one_hot function\n",
    "#     https://keras.io/preprocessing/text/\n",
    "\n",
    "def transfromText(X, n):\n",
    "    \"\"\"Convert text as interger trough the function keras.preprocessing.text.one_hot.\"\"\"\n",
    "\n",
    "    # Result\n",
    "    X_preprocessed = []\n",
    "    \n",
    "    for text in X:\n",
    "        \n",
    "        # Transform the text and add it to X_preprocessed\n",
    "        text_preprocessed = keras.preprocessing.text.one_hot(text, n)\n",
    "        X_preprocessed.append(text_preprocessed)\n",
    "        \n",
    "    # Return result\n",
    "    return X_preprocessed\n",
    "    \n",
    "# Size of vocabulary\n",
    "n_vocab = 5000\n",
    "\n",
    "# Transform texts\n",
    "X_dev_preprocessed = transfromText(X_dev, n_vocab)\n",
    "X_train_preprocessed = transfromText(X_train, n_vocab)\n",
    "X_test_preprocessed = transfromText(X_test, n_vocab)"
   ]
  },
  {
   "cell_type": "markdown",
   "metadata": {},
   "source": [
    "**Padding input data**\n",
    "\n",
    "Models in Keras (and elsewhere) take batches of sentences of the same length as input. It is because Deep Learning framework have been designed to handle well Tensors, which are particularly suited for fast computation on the GPU.\n",
    "\n",
    "Since sentences have different sizes, we \"pad\" them. That is, we add dummy \"padding\" tokens so that they all have the same length.\n",
    "\n",
    "The input to a Keras model thus has this size : (batchsize, maxseqlen) where maxseqlen is the maximum length of a sentence in the batch."
   ]
  },
  {
   "cell_type": "code",
   "execution_count": 28,
   "metadata": {
    "ExecuteTime": {
     "end_time": "2019-01-11T21:09:56.595172Z",
     "start_time": "2019-01-11T21:09:56.514348Z"
    }
   },
   "outputs": [],
   "source": [
    "# 3 - Pad your sequences using keras.preprocessing.sequence.pad_sequences\n",
    "#     https://keras.io/preprocessing/sequence/\n",
    "\n",
    "# TYPE CODE HERE\n",
    "def padSequences(X):\n",
    "    \"\"\"Padding of the sequences in X.\"\"\"\n",
    "    \n",
    "    return keras.preprocessing.sequence.pad_sequences(X)\n",
    "\n",
    "# Padding of the text\n",
    "X_dev_preprocessed_pad = padSequences(X_dev_preprocessed)\n",
    "X_train_preprocessed_pad = padSequences(X_train_preprocessed)\n",
    "X_test_preprocessed_pad = padSequences(X_test_preprocessed)"
   ]
  },
  {
   "cell_type": "markdown",
   "metadata": {},
   "source": [
    "## 4.2 - Design and train your model"
   ]
  },
  {
   "cell_type": "code",
   "execution_count": 29,
   "metadata": {
    "ExecuteTime": {
     "end_time": "2019-01-11T21:09:57.102279Z",
     "start_time": "2019-01-11T21:09:56.779484Z"
    }
   },
   "outputs": [
    {
     "name": "stderr",
     "output_type": "stream",
     "text": [
      "/home/pierre/anaconda3/lib/python3.6/site-packages/ipykernel_launcher.py:18: UserWarning: Update your `LSTM` call to the Keras 2 API: `LSTM(32, dropout=0.9, recurrent_dropout=0.05)`\n"
     ]
    }
   ],
   "source": [
    "# 4 - Design your encoder + classifier using keras.layers\n",
    "#     In Keras, Torch and other deep learning framework, we create a \"container\" which is \n",
    "#     the Sequential() module.\n",
    "#     Then we add components to this contained : the lookuptable, the LSTM, the classifier etc.\n",
    "#     All of these components are contained in the Sequential() and are trained together.\n",
    "\n",
    "\n",
    "# ADAPT CODE BELOW\n",
    "embed_dim  = 3  # word embedding dimension\n",
    "nhid       = 32 # number of hidden units in the LSTM\n",
    "vocab_size = n_vocab  # size of the vocabulary\n",
    "n_classes  = 5\n",
    "\n",
    "\n",
    "model = Sequential()\n",
    "model.add(Embedding(vocab_size, embed_dim))\n",
    "# model.add(SimpleRNN(nhid))\n",
    "model.add(LSTM(nhid, dropout_W=0.9, dropout_U=0.05))\n",
    "model.add(Dense(n_classes, activation='softmax'))"
   ]
  },
  {
   "cell_type": "code",
   "execution_count": 30,
   "metadata": {
    "ExecuteTime": {
     "end_time": "2019-01-11T21:09:57.300322Z",
     "start_time": "2019-01-11T21:09:57.256233Z"
    }
   },
   "outputs": [
    {
     "name": "stdout",
     "output_type": "stream",
     "text": [
      "_________________________________________________________________\n",
      "Layer (type)                 Output Shape              Param #   \n",
      "=================================================================\n",
      "embedding_2 (Embedding)      (None, None, 3)           15000     \n",
      "_________________________________________________________________\n",
      "lstm_2 (LSTM)                (None, 32)                4608      \n",
      "_________________________________________________________________\n",
      "dense_2 (Dense)              (None, 5)                 165       \n",
      "=================================================================\n",
      "Total params: 19,773\n",
      "Trainable params: 19,773\n",
      "Non-trainable params: 0\n",
      "_________________________________________________________________\n",
      "None\n"
     ]
    }
   ],
   "source": [
    "# 5 - Define your loss/optimizer/metrics\n",
    "\n",
    "# MODIFY CODE BELOW\n",
    "loss_classif     =  \"categorical_crossentropy\" # find the right loss for multi-class classification\n",
    "optimizer        =  'adam' # find the right optimizer\n",
    "metrics_classif  =  ['accuracy']\n",
    "\n",
    "# Observe how easy (but blackboxed) this is in Keras\n",
    "model.compile(loss=loss_classif,\n",
    "              optimizer=optimizer,\n",
    "              metrics=metrics_classif)\n",
    "print(model.summary())"
   ]
  },
  {
   "cell_type": "code",
   "execution_count": 31,
   "metadata": {
    "ExecuteTime": {
     "end_time": "2019-01-11T21:13:23.587271Z",
     "start_time": "2019-01-11T21:09:57.624589Z"
    },
    "scrolled": true
   },
   "outputs": [
    {
     "name": "stdout",
     "output_type": "stream",
     "text": [
      "Train on 8544 samples, validate on 1101 samples\n",
      "Epoch 1/20\n",
      "8544/8544 [==============================] - 12s 1ms/step - loss: 1.5771 - acc: 0.2638 - val_loss: 1.5746 - val_acc: 0.2534\n",
      "Epoch 2/20\n",
      "8544/8544 [==============================] - 10s 1ms/step - loss: 1.5698 - acc: 0.2683 - val_loss: 1.5727 - val_acc: 0.2534\n",
      "Epoch 3/20\n",
      "8544/8544 [==============================] - 10s 1ms/step - loss: 1.5682 - acc: 0.2729 - val_loss: 1.5725 - val_acc: 0.2534\n",
      "Epoch 4/20\n",
      "8544/8544 [==============================] - 9s 1ms/step - loss: 1.5673 - acc: 0.2762 - val_loss: 1.5719 - val_acc: 0.2534\n",
      "Epoch 5/20\n",
      "8544/8544 [==============================] - 10s 1ms/step - loss: 1.5645 - acc: 0.2761 - val_loss: 1.5689 - val_acc: 0.2607\n",
      "Epoch 6/20\n",
      "8544/8544 [==============================] - 10s 1ms/step - loss: 1.5626 - acc: 0.2793 - val_loss: 1.5675 - val_acc: 0.2552\n",
      "Epoch 7/20\n",
      "8544/8544 [==============================] - 9s 1ms/step - loss: 1.5567 - acc: 0.2809 - val_loss: 1.5608 - val_acc: 0.2616\n",
      "Epoch 8/20\n",
      "8544/8544 [==============================] - 9s 1ms/step - loss: 1.5536 - acc: 0.2877 - val_loss: 1.5528 - val_acc: 0.2716\n",
      "Epoch 9/20\n",
      "8544/8544 [==============================] - 10s 1ms/step - loss: 1.5476 - acc: 0.2892 - val_loss: 1.5453 - val_acc: 0.2879\n",
      "Epoch 10/20\n",
      "8544/8544 [==============================] - 10s 1ms/step - loss: 1.5378 - acc: 0.2953 - val_loss: 1.5331 - val_acc: 0.3433\n",
      "Epoch 11/20\n",
      "8544/8544 [==============================] - 11s 1ms/step - loss: 1.5257 - acc: 0.3061 - val_loss: 1.5187 - val_acc: 0.3370\n",
      "Epoch 12/20\n",
      "8544/8544 [==============================] - 10s 1ms/step - loss: 1.5170 - acc: 0.3155 - val_loss: 1.5121 - val_acc: 0.3370\n",
      "Epoch 13/20\n",
      "8544/8544 [==============================] - 10s 1ms/step - loss: 1.5036 - acc: 0.3230 - val_loss: 1.4988 - val_acc: 0.3542\n",
      "Epoch 14/20\n",
      "8544/8544 [==============================] - 9s 1ms/step - loss: 1.4847 - acc: 0.3387 - val_loss: 1.4595 - val_acc: 0.3706\n",
      "Epoch 15/20\n",
      "8544/8544 [==============================] - 11s 1ms/step - loss: 1.4680 - acc: 0.3480 - val_loss: 1.4488 - val_acc: 0.3633\n",
      "Epoch 16/20\n",
      "8544/8544 [==============================] - 11s 1ms/step - loss: 1.4420 - acc: 0.3720 - val_loss: 1.4367 - val_acc: 0.3724\n",
      "Epoch 17/20\n",
      "8544/8544 [==============================] - 11s 1ms/step - loss: 1.4297 - acc: 0.3732 - val_loss: 1.4238 - val_acc: 0.3633\n",
      "Epoch 18/20\n",
      "8544/8544 [==============================] - 11s 1ms/step - loss: 1.4130 - acc: 0.3807 - val_loss: 1.4337 - val_acc: 0.3688\n",
      "Epoch 19/20\n",
      "8544/8544 [==============================] - 11s 1ms/step - loss: 1.4024 - acc: 0.3904 - val_loss: 1.4165 - val_acc: 0.3824\n",
      "Epoch 20/20\n",
      "8544/8544 [==============================] - 11s 1ms/step - loss: 1.3998 - acc: 0.3826 - val_loss: 1.4246 - val_acc: 0.3660\n"
     ]
    }
   ],
   "source": [
    "# 6 - Train your model and find the best hyperparameters for your dev set\n",
    "#     you will be evaluated on the quality of your predictions on the test set\n",
    "\n",
    "# ADAPT CODE BELOW\n",
    "bs = 64\n",
    "n_epochs = 20\n",
    "\n",
    "# Convert \n",
    "y_dev = to_categorical(Y_dev)\n",
    "y_train = to_categorical(Y_train)\n",
    "\n",
    "history = model.fit(X_train_preprocessed_pad, y_train, batch_size=bs, epochs=n_epochs, \n",
    "                    validation_data=(X_dev_preprocessed_pad, y_dev))"
   ]
  },
  {
   "cell_type": "code",
   "execution_count": 32,
   "metadata": {
    "ExecuteTime": {
     "end_time": "2019-01-11T21:13:24.921708Z",
     "start_time": "2019-01-11T21:13:23.780711Z"
    }
   },
   "outputs": [
    {
     "name": "stderr",
     "output_type": "stream",
     "text": [
      "/home/pierre/anaconda3/lib/python3.6/site-packages/matplotlib/figure.py:448: UserWarning: Matplotlib is currently using module://ipykernel.pylab.backend_inline, which is a non-GUI backend, so cannot show the figure.\n",
      "  % get_backend())\n"
     ]
    },
    {
     "data": {
      "image/png": "[encoded data removed]",
      "text/plain": [
       "<Figure size 1440x576 with 2 Axes>"
      ]
     },
     "metadata": {
      "needs_background": "light"
     },
     "output_type": "display_data"
    }
   ],
   "source": [
    "# Plotting of the train/dev results according to the epochs\n",
    "fig, axs = plt.subplots(1, 2, figsize=(20, 8))\n",
    "\n",
    "# Data\n",
    "x_epochs = [i+1 for i in range(n_epochs)]\n",
    "y_train_loss = history.history['loss']\n",
    "y_train_accuracy = history.history['acc']\n",
    "y_dev_loss = history.history['val_loss']\n",
    "y_dev_accuracy = history.history['val_acc']\n",
    "\n",
    "# Scattering of the data\n",
    "axs[0].scatter(x_epochs, y_train_loss, marker=\"x\", label=\"Training set\")\n",
    "axs[0].scatter(x_epochs, y_dev_loss, marker=\"x\", label=\"Dev set\")\n",
    "\n",
    "axs[1].scatter(x_epochs, y_train_accuracy, marker=\"x\", label=\"Training set\")\n",
    "axs[1].scatter(x_epochs, y_dev_accuracy, marker=\"x\", label=\"Dev set\")\n",
    "\n",
    "# Legend and Grid\n",
    "for i in range(2):\n",
    "    axs[i].legend()\n",
    "    axs[i].grid(True)\n",
    "    axs[i].set_xlabel(\"Number of epochs computed\")\n",
    "\n",
    "axs[0].set_ylabel(\"Loss\")\n",
    "axs[1].set_ylabel(\"Accuracy\")\n",
    "axs[0].set_title(\"Loss over the epochs\")\n",
    "axs[1].set_title(\"Accuracy over the epochs\")\n",
    "\n",
    "# Save figure\n",
    "fig.savefig(\"./Results/Loss_and_Accuracy_over_time.eps\", bbox_inches='tight',\n",
    "            pad_inches=0, dpi=200)\n",
    "\n",
    "# Show\n",
    "fig.show()"
   ]
  },
  {
   "cell_type": "code",
   "execution_count": 33,
   "metadata": {
    "ExecuteTime": {
     "end_time": "2019-01-11T21:13:26.484669Z",
     "start_time": "2019-01-11T21:13:25.093180Z"
    }
   },
   "outputs": [],
   "source": [
    "# 7 - Generate your predictions on the test set using model.predict(x_test)\n",
    "#     https://keras.io/models/model/\n",
    "#     Log your predictions in a file (one line = one integer: 0,1,2,3,4)\n",
    "#     Attach the output file \"logreg_lstm_y_test_sst.txt\" to your deliverable.\n",
    "\n",
    "# Predict the labels for the testing set with the best parameters found\n",
    "Y_pred = model.predict(X_test_preprocessed_pad)\n",
    "\n",
    "# Save the labels predicted in an array\n",
    "np.savetxt(\"./Results/logreg_lstm_y_test_sst.txt\", Y_pred, delimiter=\",\")"
   ]
  },
  {
   "cell_type": "markdown",
   "metadata": {},
   "source": [
    "## 4.3 -- innovate !"
   ]
  },
  {
   "cell_type": "code",
   "execution_count": 34,
   "metadata": {
    "ExecuteTime": {
     "end_time": "2019-01-11T21:13:26.663729Z",
     "start_time": "2019-01-11T21:13:26.661334Z"
    }
   },
   "outputs": [],
   "source": [
    "# 8 - Open question: find a model that is better on your dev set\n",
    "#     (e.g: use a 1D ConvNet, use a better classifier, pretrain your lookup tables ..)\n",
    "#     you will get point if the results on the test set are better: be careful of not overfitting your dev set too much..\n",
    "#     Attach the output file \"XXX_XXX_y_test_sst.txt\" to your deliverable.\n",
    "\n",
    "# TYPE CODE HERE\n",
    "# We use the impletention done here: \n",
    "# https://github.com/TobiasLee/Text-Classification/blob/master/models/attn_bi_lstm.py"
   ]
  },
  {
   "cell_type": "code",
   "execution_count": null,
   "metadata": {
    "ExecuteTime": {
     "start_time": "2019-01-11T21:16:10.445Z"
    },
    "scrolled": true
   },
   "outputs": [
    {
     "name": "stdout",
     "output_type": "stream",
     "text": [
      "train size:  8544\n",
      "vocab size:  50002\n",
      "building graph\n",
      "graph built successfully!\n",
      "Epoch 1 start !\n"
     ]
    }
   ],
   "source": [
    "from tensorflow.python.ops.rnn import bidirectional_dynamic_rnn as bi_rnn\n",
    "from tensorflow.contrib.rnn import BasicLSTMCell\n",
    "from utils.prepare_data import *\n",
    "import time\n",
    "from utils.model_helper import *\n",
    "\n",
    "\n",
    "class ABLSTM(object):\n",
    "    def __init__(self, config):\n",
    "        \n",
    "        tf.reset_default_graph()\n",
    "        \n",
    "        self.max_len = config[\"max_len\"]\n",
    "        self.hidden_size = config[\"hidden_size\"]\n",
    "        self.vocab_size = config[\"vocab_size\"]\n",
    "        self.embedding_size = config[\"embedding_size\"]\n",
    "        self.n_class = config[\"n_class\"]\n",
    "        self.learning_rate = config[\"learning_rate\"]\n",
    "\n",
    "        # placeholder\n",
    "        self.x = tf.placeholder(tf.int32, [None, self.max_len])\n",
    "        self.label = tf.placeholder(tf.int32, [None])\n",
    "        self.keep_prob = tf.placeholder(tf.float32)\n",
    "        \n",
    "        \n",
    "\n",
    "    def build_graph(self):\n",
    "        print(\"building graph\")\n",
    "        # Word embedding\n",
    "        embeddings_var = tf.Variable(tf.random_uniform([self.vocab_size, self.embedding_size], -1.0, 1.0),\n",
    "                                     trainable=True)\n",
    "        \n",
    "        batch_embedded = tf.nn.embedding_lookup(embeddings_var, self.x)\n",
    "\n",
    "        rnn_outputs, _ = bi_rnn(BasicLSTMCell(self.hidden_size),\n",
    "                                BasicLSTMCell(self.hidden_size),\n",
    "                                inputs=batch_embedded, dtype=tf.float32)\n",
    "\n",
    "        fw_outputs, bw_outputs = rnn_outputs\n",
    "\n",
    "        W = tf.Variable(tf.random_normal([self.hidden_size], stddev=0.1))\n",
    "        H = fw_outputs + bw_outputs  # (batch_size, seq_len, HIDDEN_SIZE)\n",
    "        M = tf.tanh(H)  # M = tanh(H)  (batch_size, seq_len, HIDDEN_SIZE)\n",
    "\n",
    "        self.alpha = tf.nn.softmax(tf.reshape(tf.matmul(tf.reshape(M, [-1, self.hidden_size]),\n",
    "                                                        tf.reshape(W, [-1, 1])),\n",
    "                                              (-1, self.max_len)))  # batch_size x seq_len\n",
    "        r = tf.matmul(tf.transpose(H, [0, 2, 1]),\n",
    "                      tf.reshape(self.alpha, [-1, self.max_len, 1]))\n",
    "        r = tf.squeeze(r)\n",
    "        h_star = tf.tanh(r)  # (batch , HIDDEN_SIZE\n",
    "\n",
    "        h_drop = tf.nn.dropout(h_star, self.keep_prob)\n",
    "\n",
    "        # Fully connected layer（dense layer)\n",
    "        FC_W = tf.Variable(tf.truncated_normal([self.hidden_size, self.n_class], stddev=0.1))\n",
    "        FC_b = tf.Variable(tf.constant(0., shape=[self.n_class]))\n",
    "        y_hat = tf.nn.xw_plus_b(h_drop, FC_W, FC_b)\n",
    "\n",
    "        self.loss = tf.reduce_mean(\n",
    "            tf.nn.sparse_softmax_cross_entropy_with_logits(logits=y_hat, labels=self.label))\n",
    "\n",
    "        # prediction\n",
    "        self.prediction = tf.argmax(tf.nn.softmax(y_hat), 1)\n",
    "\n",
    "        # optimization\n",
    "        loss_to_minimize = self.loss\n",
    "        tvars = tf.trainable_variables()\n",
    "        gradients = tf.gradients(loss_to_minimize, tvars, aggregation_method=tf.AggregationMethod.EXPERIMENTAL_TREE)\n",
    "        grads, global_norm = tf.clip_by_global_norm(gradients, 1.0)\n",
    "\n",
    "        self.global_step = tf.Variable(0, name=\"global_step\", trainable=False)\n",
    "        self.optimizer = tf.train.AdamOptimizer(learning_rate=self.learning_rate)\n",
    "        self.train_op = self.optimizer.apply_gradients(zip(grads, tvars), global_step=self.global_step,\n",
    "                                                       name='train_step')\n",
    "        print(\"graph built successfully!\")\n",
    "\n",
    "\n",
    "if __name__ == '__main__':\n",
    "    # load data\n",
    "    x_train, y_train = X_train, Y_train\n",
    "    x_dev, y_dev = X_dev, Y_dev\n",
    "\n",
    "    # data preprocessing\n",
    "    x_train, x_dev, vocab_size = \\\n",
    "        data_preprocessing_v2(x_train, x_dev, max_len=32)\n",
    "    print(\"train size: \", len(x_train))\n",
    "    print(\"vocab size: \", vocab_size)\n",
    "\n",
    "    # split dataset to test and dev\n",
    "\n",
    "    config = {\n",
    "        \"max_len\": 32,\n",
    "        \"hidden_size\": 32,\n",
    "        \"vocab_size\": vocab_size,\n",
    "        \"embedding_size\": 3,\n",
    "        \"n_class\": 5,\n",
    "        \"learning_rate\": 1e-3,\n",
    "        \"batch_size\": 4,\n",
    "        \"train_epoch\": 15\n",
    "    }\n",
    "\n",
    "    classifier = ABLSTM(config)\n",
    "    classifier.build_graph()\n",
    "\n",
    "    sess = tf.Session()\n",
    "    sess.run(tf.global_variables_initializer())\n",
    "    dev_batch = (x_dev, y_dev)\n",
    "    start = time.time()\n",
    "    for e in range(config[\"train_epoch\"]):\n",
    "\n",
    "        t0 = time.time()\n",
    "        print(\"Epoch %d start !\" % (e + 1))\n",
    "        for x_batch, y_batch in fill_feed_dict(x_train, y_train, config[\"batch_size\"]):\n",
    "            return_dict = run_train_step(classifier, sess, (x_batch, y_batch))\n",
    "            attn = get_attn_weight(classifier, sess, (x_batch, y_batch))\n",
    "            # plot the attention weight\n",
    "            # print(np.reshape(attn, (config[\"batch_size\"], config[\"max_len\"])))\n",
    "        t1 = time.time()\n",
    "\n",
    "        print(\"Train Epoch time:  %.3f s\" % (t1 - t0))\n",
    "        dev_acc = run_eval_step(classifier, sess, dev_batch)\n",
    "        print(\"validation accuracy: %.3f \" % dev_acc)\n",
    "\n",
    "    print(\"Training finished, time consumed : \", time.time() - start, \" s\")"
   ]
  },
  {
   "cell_type": "code",
   "execution_count": null,
   "metadata": {
    "ExecuteTime": {
     "start_time": "2019-01-11T21:16:11.749Z"
    }
   },
   "outputs": [],
   "source": [
    "# Predict the labels for the testing set with the best parameters found\n",
    "x_test, x_dev, vocab_size = data_preprocessing_v2(X_test, X_dev, max_len=32)\n",
    "\n",
    "feed_dict = feed_dict = {classifier.x: x_test,\n",
    "                         classifier.label: [0 for i in x_test],\n",
    "                         classifier.keep_prob: 1.0}\n",
    "Y_pred = sess.run(classifier.prediction, feed_dict)\n",
    "\n",
    "# Save the labels predicted in an array\n",
    "np.savetxt(\"./Results/XXX_XXX_y_test_sst.txt\", Y_pred, delimiter=\",\")"
   ]
  },
  {
   "cell_type": "code",
   "execution_count": null,
   "metadata": {},
   "outputs": [],
   "source": []
  }
 ],
 "metadata": {
  "kernelspec": {
   "display_name": "Python 3",
   "language": "python",
   "name": "python3"
  },
  "language_info": {
   "codemirror_mode": {
    "name": "ipython",
    "version": 3
   },
   "file_extension": ".py",
   "mimetype": "text/x-python",
   "name": "python",
   "nbconvert_exporter": "python",
   "pygments_lexer": "ipython3",
   "version": "3.6.3"
  },
  "latex_envs": {
   "LaTeX_envs_menu_present": true,
   "autoclose": false,
   "autocomplete": true,
   "bibliofile": "biblio.bib",
   "cite_by": "apalike",
   "current_citInitial": 1,
   "eqLabelWithNumbers": true,
   "eqNumInitial": 1,
   "hotkeys": {
    "equation": "Ctrl-E",
    "itemize": "Ctrl-I"
   },
   "labels_anchors": false,
   "latex_user_defs": false,
   "report_style_numbering": false,
   "user_envs_cfg": false
  },
  "varInspector": {
   "cols": {
    "lenName": 16,
    "lenType": 16,
    "lenVar": 40
   },
   "kernels_config": {
    "python": {
     "delete_cmd_postfix": "",
     "delete_cmd_prefix": "del ",
     "library": "var_list.py",
     "varRefreshCmd": "print(var_dic_list())"
    },
    "r": {
     "delete_cmd_postfix": ") ",
     "delete_cmd_prefix": "rm(",
     "library": "var_list.r",
     "varRefreshCmd": "cat(var_dic_list()) "
    }
   },
   "types_to_exclude": [
    "module",
    "function",
    "builtin_function_or_method",
    "instance",
    "_Feature"
   ],
   "window_display": false
  }
 },
 "nbformat": 4,
 "nbformat_minor": 1
}
